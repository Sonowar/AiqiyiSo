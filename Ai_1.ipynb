{
 "cells": [
  {
   "cell_type": "code",
   "execution_count": 12,
   "id": "c6c8f5bc",
   "metadata": {},
   "outputs": [],
   "source": [
    "from collections import defaultdict\n",
    "\n",
    "import matplotlib.pyplot as plt\n",
    "# 常用包\n",
    "import numpy as np\n",
    "import pandas as pd\n",
    "import seaborn as sns\n",
    "# 导入torch\n",
    "import torch\n",
    "import torch.nn.functional as F\n",
    "from pylab import rcParams\n",
    "from sklearn.metrics import confusion_matrix, classification_report\n",
    "from sklearn.model_selection import train_test_split\n",
    "from torch import nn\n",
    "from torch.utils.data import Dataset, DataLoader\n",
    "from tqdm import tqdm\n",
    "# 导入transformers\n",
    "from transformers import BertModel, BertTokenizer, AdamW, get_linear_schedule_with_warmup\n",
    "\n",
    "%matplotlib inline\n",
    "%config InlineBackend.figure_format='retina' # 主题"
   ]
  },
  {
   "cell_type": "code",
   "execution_count": 13,
   "id": "e386330f",
   "metadata": {},
   "outputs": [
    {
     "data": {
      "text/plain": [
       "device(type='cpu')"
      ]
     },
     "execution_count": 13,
     "metadata": {},
     "output_type": "execute_result"
    }
   ],
   "source": [
    "sns.set(style='whitegrid', palette='muted', font_scale=1.2)\n",
    "\n",
    "HAPPY_COLORS_PALETTE = [\"#01BEFE\", \"#FFDD00\", \"#FF7D00\", \"#FF006D\", \"#ADFF02\", \"#8F00FF\"]\n",
    "\n",
    "sns.set_palette(sns.color_palette(HAPPY_COLORS_PALETTE))\n",
    "\n",
    "rcParams['figure.figsize'] = 12, 8\n",
    "\n",
    "RANDOM_SEED = 42\n",
    "np.random.seed(RANDOM_SEED)\n",
    "torch.manual_seed(RANDOM_SEED)\n",
    "\n",
    "device = torch.device(\"cuda:0\" if torch.cuda.is_available() else \"cpu\")\n",
    "#device的用处是作为Tensor或者Model被分配到的位置\n",
    "\n",
    "device"
   ]
  },
  {
   "cell_type": "code",
   "execution_count": 14,
   "id": "85435991",
   "metadata": {},
   "outputs": [
    {
     "data": {
      "text/plain": [
       "False"
      ]
     },
     "execution_count": 14,
     "metadata": {},
     "output_type": "execute_result"
    }
   ],
   "source": [
    "torch.cuda.is_available()"
   ]
  },
  {
   "cell_type": "code",
   "execution_count": 4,
   "id": "5aecd24e",
   "metadata": {},
   "outputs": [
    {
     "name": "stderr",
     "output_type": "stream",
     "text": [
      "100%|██████████| 6910/6910 [00:00<00:00, 255878.95it/s]\n"
     ]
    }
   ],
   "source": [
    "with open('train_dataset_v.tsv', 'r', encoding='utf-8') as handler:\n",
    "    lines = handler.read().split('\\n')[1:-1]\n",
    "\n",
    "    data = list()\n",
    "    for line in tqdm(lines):\n",
    "        sp = line.split('\\t')\n",
    "        if len(sp) != 4:\n",
    "            print(\"ERROR:\", sp)\n",
    "            continue\n",
    "        data.append(sp)\n",
    "\n",
    "train = pd.DataFrame(data)\n",
    "train.columns = ['id', 'content', 'character', 'emotions']\n",
    "\n",
    "test = pd.read_csv('test_dataset.tsv', sep='\\t')\n",
    "submit = pd.read_csv('submit_example.tsv', sep='\\t')\n",
    "train = train[train['emotions'] != '']"
   ]
  },
  {
   "cell_type": "code",
   "execution_count": 5,
   "id": "b7dccbd1",
   "metadata": {},
   "outputs": [],
   "source": [
    "#文本拼接\n",
    "train['text'] = train[ 'content'].astype(str)  +'角色: ' + train['character'].astype(str)\n",
    "test['text'] = test['content'].astype(str) + ' 角色: ' + test['character'].astype(str)"
   ]
  },
  {
   "cell_type": "code",
   "execution_count": 6,
   "id": "e7236f06",
   "metadata": {},
   "outputs": [
    {
     "data": {
      "text/plain": [
       "0    5982\n",
       "1     168\n",
       "2      72\n",
       "3      21\n",
       "Name: joy, dtype: int64"
      ]
     },
     "execution_count": 6,
     "metadata": {},
     "output_type": "execute_result"
    }
   ],
   "source": [
    "# 标签转换\n",
    "train['emotions'] = train['emotions'].apply(lambda x: [int(_i) for _i in x.split(',')])\n",
    "\n",
    "train[['love', 'joy', 'fright', 'anger', 'fear', 'sorrow']] = train['emotions'].values.tolist() #无索引筛选\n",
    "test[['love', 'joy', 'fright', 'anger', 'fear', 'sorrow']] =[0,0,0,0,0,0]\n",
    "train['joy'].value_counts()\n",
    "#数据集出现次数"
   ]
  },
  {
   "cell_type": "code",
   "execution_count": 7,
   "id": "dcbc1ac9",
   "metadata": {},
   "outputs": [
    {
     "data": {
      "text/html": [
       "<div>\n",
       "<style scoped>\n",
       "    .dataframe tbody tr th:only-of-type {\n",
       "        vertical-align: middle;\n",
       "    }\n",
       "\n",
       "    .dataframe tbody tr th {\n",
       "        vertical-align: top;\n",
       "    }\n",
       "\n",
       "    .dataframe thead th {\n",
       "        text-align: right;\n",
       "    }\n",
       "</style>\n",
       "<table border=\"1\" class=\"dataframe\">\n",
       "  <thead>\n",
       "    <tr style=\"text-align: right;\">\n",
       "      <th></th>\n",
       "      <th>id</th>\n",
       "      <th>content</th>\n",
       "      <th>character</th>\n",
       "      <th>emotions</th>\n",
       "      <th>text</th>\n",
       "      <th>love</th>\n",
       "      <th>joy</th>\n",
       "      <th>fright</th>\n",
       "      <th>anger</th>\n",
       "      <th>fear</th>\n",
       "      <th>sorrow</th>\n",
       "    </tr>\n",
       "  </thead>\n",
       "  <tbody>\n",
       "    <tr>\n",
       "      <th>0</th>\n",
       "      <td>1171_0001_A_1</td>\n",
       "      <td>天空下着暴雨，o2正在给c1穿雨衣，他自己却只穿着单薄的军装，完全暴露在大雨之中。</td>\n",
       "      <td>o2</td>\n",
       "      <td>[0, 0, 0, 0, 0, 0]</td>\n",
       "      <td>天空下着暴雨，o2正在给c1穿雨衣，他自己却只穿着单薄的军装，完全暴露在大雨之中。角色: o2</td>\n",
       "      <td>0</td>\n",
       "      <td>0</td>\n",
       "      <td>0</td>\n",
       "      <td>0</td>\n",
       "      <td>0</td>\n",
       "      <td>0</td>\n",
       "    </tr>\n",
       "    <tr>\n",
       "      <th>1</th>\n",
       "      <td>1171_0001_A_2</td>\n",
       "      <td>天空下着暴雨，o2正在给c1穿雨衣，他自己却只穿着单薄的军装，完全暴露在大雨之中。</td>\n",
       "      <td>c1</td>\n",
       "      <td>[0, 0, 0, 0, 0, 0]</td>\n",
       "      <td>天空下着暴雨，o2正在给c1穿雨衣，他自己却只穿着单薄的军装，完全暴露在大雨之中。角色: c1</td>\n",
       "      <td>0</td>\n",
       "      <td>0</td>\n",
       "      <td>0</td>\n",
       "      <td>0</td>\n",
       "      <td>0</td>\n",
       "      <td>0</td>\n",
       "    </tr>\n",
       "    <tr>\n",
       "      <th>2</th>\n",
       "      <td>1171_0001_A_3</td>\n",
       "      <td>o2一手拿着一个行李，一路小跑着把c1带到了文工团门口。</td>\n",
       "      <td>o2</td>\n",
       "      <td>[0, 0, 0, 0, 0, 0]</td>\n",
       "      <td>o2一手拿着一个行李，一路小跑着把c1带到了文工团门口。角色: o2</td>\n",
       "      <td>0</td>\n",
       "      <td>0</td>\n",
       "      <td>0</td>\n",
       "      <td>0</td>\n",
       "      <td>0</td>\n",
       "      <td>0</td>\n",
       "    </tr>\n",
       "    <tr>\n",
       "      <th>3</th>\n",
       "      <td>1171_0001_A_4</td>\n",
       "      <td>o2一手拿着一个行李，一路小跑着把c1带到了文工团门口。</td>\n",
       "      <td>c1</td>\n",
       "      <td>[0, 0, 0, 0, 0, 0]</td>\n",
       "      <td>o2一手拿着一个行李，一路小跑着把c1带到了文工团门口。角色: c1</td>\n",
       "      <td>0</td>\n",
       "      <td>0</td>\n",
       "      <td>0</td>\n",
       "      <td>0</td>\n",
       "      <td>0</td>\n",
       "      <td>0</td>\n",
       "    </tr>\n",
       "    <tr>\n",
       "      <th>4</th>\n",
       "      <td>1171_0001_A_5</td>\n",
       "      <td>o2停下来接过c1手里的行李：你妈妈交待我了，等领了军装一定要照张相寄回去，让街坊邻居都知道...</td>\n",
       "      <td>o2</td>\n",
       "      <td>[0, 0, 0, 0, 0, 0]</td>\n",
       "      <td>o2停下来接过c1手里的行李：你妈妈交待我了，等领了军装一定要照张相寄回去，让街坊邻居都知道...</td>\n",
       "      <td>0</td>\n",
       "      <td>0</td>\n",
       "      <td>0</td>\n",
       "      <td>0</td>\n",
       "      <td>0</td>\n",
       "      <td>0</td>\n",
       "    </tr>\n",
       "  </tbody>\n",
       "</table>\n",
       "</div>"
      ],
      "text/plain": [
       "              id                                            content character  \\\n",
       "0  1171_0001_A_1          天空下着暴雨，o2正在给c1穿雨衣，他自己却只穿着单薄的军装，完全暴露在大雨之中。        o2   \n",
       "1  1171_0001_A_2          天空下着暴雨，o2正在给c1穿雨衣，他自己却只穿着单薄的军装，完全暴露在大雨之中。        c1   \n",
       "2  1171_0001_A_3                       o2一手拿着一个行李，一路小跑着把c1带到了文工团门口。        o2   \n",
       "3  1171_0001_A_4                       o2一手拿着一个行李，一路小跑着把c1带到了文工团门口。        c1   \n",
       "4  1171_0001_A_5  o2停下来接过c1手里的行李：你妈妈交待我了，等领了军装一定要照张相寄回去，让街坊邻居都知道...        o2   \n",
       "\n",
       "             emotions                                               text  \\\n",
       "0  [0, 0, 0, 0, 0, 0]    天空下着暴雨，o2正在给c1穿雨衣，他自己却只穿着单薄的军装，完全暴露在大雨之中。角色: o2   \n",
       "1  [0, 0, 0, 0, 0, 0]    天空下着暴雨，o2正在给c1穿雨衣，他自己却只穿着单薄的军装，完全暴露在大雨之中。角色: c1   \n",
       "2  [0, 0, 0, 0, 0, 0]                 o2一手拿着一个行李，一路小跑着把c1带到了文工团门口。角色: o2   \n",
       "3  [0, 0, 0, 0, 0, 0]                 o2一手拿着一个行李，一路小跑着把c1带到了文工团门口。角色: c1   \n",
       "4  [0, 0, 0, 0, 0, 0]  o2停下来接过c1手里的行李：你妈妈交待我了，等领了军装一定要照张相寄回去，让街坊邻居都知道...   \n",
       "\n",
       "   love  joy  fright  anger  fear  sorrow  \n",
       "0     0    0       0      0     0       0  \n",
       "1     0    0       0      0     0       0  \n",
       "2     0    0       0      0     0       0  \n",
       "3     0    0       0      0     0       0  \n",
       "4     0    0       0      0     0       0  "
      ]
     },
     "execution_count": 7,
     "metadata": {},
     "output_type": "execute_result"
    }
   ],
   "source": [
    "train.head()"
   ]
  },
  {
   "cell_type": "code",
   "execution_count": 39,
   "id": "4dbb115c",
   "metadata": {},
   "outputs": [
    {
     "name": "stderr",
     "output_type": "stream",
     "text": [
      "  0%|          | 0/6243 [00:00<?, ?it/s]Truncation was not explicitly activated but `max_length` is provided a specific value, please use `truncation=True` to explicitly truncate examples to max length. Defaulting to 'longest_first' truncation strategy. If you encode pairs of sequences (GLUE-style) with the tokenizer you can select this strategy more precisely by providing a specific strategy to `truncation`.\n",
      "100%|██████████| 6243/6243 [00:05<00:00, 1153.49it/s]\n"
     ]
    }
   ],
   "source": [
    "#tokenizer\n",
    "PRE_TRAINED_MODEL_NAME = 'hfl/chinese-roberta-wwm-ext'\n",
    "\n",
    "# 加载分词器\n",
    "tokenizer = BertTokenizer.from_pretrained(PRE_TRAINED_MODEL_NAME)\n",
    "\n",
    "#选取文本最大长度\n",
    "from transformers import logging\n",
    "logging.set_verbosity_warning()\n",
    "\n",
    "token_lens = []\n",
    "for txt in tqdm(train.text):\n",
    "    tokens = tokenizer.encode(txt, max_length=512)\n",
    "    token_lens.append(len(tokens))"
   ]
  },
  {
   "cell_type": "code",
   "execution_count": 34,
   "id": "49e7e7f9",
   "metadata": {},
   "outputs": [
    {
     "name": "stderr",
     "output_type": "stream",
     "text": [
      "D:\\3xia\\anaconda\\lib\\site-packages\\seaborn\\distributions.py:2619: FutureWarning: `distplot` is a deprecated function and will be removed in a future version. Please adapt your code to use either `displot` (a figure-level function with similar flexibility) or `histplot` (an axes-level function for histograms).\n",
      "  warnings.warn(msg, FutureWarning)\n"
     ]
    },
    {
     "data": {
      "image/png": "[encoded data removed]",
      "text/plain": [
       "<Figure size 864x576 with 1 Axes>"
      ]
     },
     "metadata": {
      "image/png": {
       "height": 487,
       "width": 743
      }
     },
     "output_type": "display_data"
    }
   ],
   "source": [
    "sns.distplot(token_lens)\n",
    "plt.xlim([0, 256]);\n",
    "plt.xlabel('Token count');"
   ]
  },
  {
   "cell_type": "code",
   "execution_count": 35,
   "id": "64003cec",
   "metadata": {},
   "outputs": [
    {
     "data": {
      "text/plain": [
       "count    6243.000000\n",
       "mean       29.867532\n",
       "std        20.157214\n",
       "min         9.000000\n",
       "25%        18.000000\n",
       "50%        25.000000\n",
       "75%        35.000000\n",
       "max       376.000000\n",
       "dtype: float64"
      ]
     },
     "execution_count": 35,
     "metadata": {},
     "output_type": "execute_result"
    }
   ],
   "source": [
    "pd.Series(token_lens).describe()"
   ]
  },
  {
   "cell_type": "code",
   "execution_count": 36,
   "id": "3024a44f",
   "metadata": {},
   "outputs": [],
   "source": [
    "MAX_LEN=128 # 选定128\n",
    "\n",
    "# 构建学术论文数据集\n",
    "target_cols=['love', 'joy', 'fright', 'anger', 'fear', 'sorrow']"
   ]
  },
  {
   "cell_type": "code",
   "execution_count": 19,
   "id": "847acca6",
   "metadata": {},
   "outputs": [],
   "source": [
    "#自定义数据集\n",
    "class RoleDataset(Dataset):\n",
    "    def __init__(self,texts,labels,tokenizer,max_len):\n",
    "        self.texts=texts\n",
    "        self.labels=labels\n",
    "        self.tokenizer=tokenizer\n",
    "        self.max_len=max_len\n",
    "    def __len__(self):\n",
    "        return len(self.texts)\n",
    "    \n",
    "    def __getitem__(self,item):\n",
    "        \"\"\"\n",
    "        item 为数据索引，迭代取第item条数据\n",
    "        \"\"\"\n",
    "        text=str(self.texts[item])\n",
    "        label=self.labels[item]\n",
    "        \n",
    "        #分词器\n",
    "        encoding=self.tokenizer.encode_plus(\n",
    "            text,\n",
    "            add_special_tokens=True,# 句子开头和分隔加cls sep  [cls] + text + [sep]\n",
    "            max_length=self.max_len,\n",
    "            return_token_type_ids=True,# 分句ids  \n",
    "            pad_to_max_length=True,\n",
    "            return_attention_mask=True,# 注意力编码  \n",
    "            return_tensors='pt',# pytorch类型\n",
    "        )\n",
    "        \n",
    "#         print(encoding['input_ids'])\n",
    "        sample = {\n",
    "            'texts': text,\n",
    "            'input_ids': encoding['input_ids'].flatten(),\n",
    "            'attention_mask': encoding['attention_mask'].flatten()\n",
    "            \n",
    "            #input_ids：是单词在词典中的编码\n",
    "            #attention_mask：指定对哪些词进行self-Attention操作\n",
    "        }\n",
    "        for label_col in target_cols:\n",
    "            sample[label_col] = torch.tensor(label[label_col], dtype=torch.float)\n",
    "        return sample\n",
    "        "
   ]
  },
  {
   "cell_type": "code",
   "execution_count": 20,
   "id": "7ac9e52e",
   "metadata": {},
   "outputs": [
    {
     "name": "stderr",
     "output_type": "stream",
     "text": [
      "C:\\Users\\PCL\\AppData\\Roaming\\Python\\Python39\\site-packages\\transformers\\tokenization_utils_base.py:2302: FutureWarning: The `pad_to_max_length` argument is deprecated and will be removed in a future version, use `padding=True` or `padding='longest'` to pad to the longest sequence in the batch, or use `padding='max_length'` to pad to a max length. In this case, you can give a specific length with `max_length` (e.g. `max_length=45`) or leave max_length to None to pad to the maximal input size of the model (e.g. 512 for Bert).\n",
      "  warnings.warn(\n"
     ]
    },
    {
     "data": {
      "text/plain": [
       "dict_keys(['texts', 'input_ids', 'attention_mask', 'love', 'joy', 'fright', 'anger', 'fear', 'sorrow'])"
      ]
     },
     "execution_count": 20,
     "metadata": {},
     "output_type": "execute_result"
    }
   ],
   "source": [
    "#划分数据集并创建生成器\n",
    "df_train, df_val = train_test_split(train, test_size=0.1, random_state=RANDOM_SEED)\n",
    "#随机划分数据集\n",
    "\n",
    "def create_data_loader(df,tokenizer,max_len,batch_size):\n",
    "    ds=RoleDataset(\n",
    "        texts=df['text'].values,\n",
    "        labels=df[target_cols].to_dict('records'),#DataFrame转换为字典(dict),‘records':{column -> value}\n",
    "        tokenizer=tokenizer,\n",
    "        max_len=max_len\n",
    "    )\n",
    "    return DataLoader(\n",
    "        ds,\n",
    "        batch_size=batch_size\n",
    "#         num_workers=4 # windows多线程\n",
    "    )\n",
    "BATCH_SIZE = 16\n",
    "\n",
    "train_data_loader = create_data_loader(df_train, tokenizer, MAX_LEN, BATCH_SIZE)\n",
    "val_data_loader = create_data_loader(df_val, tokenizer, MAX_LEN, BATCH_SIZE)\n",
    "\n",
    "# test_data_loader = create_data_loader(df_test, tokenizer, MAX_LEN, BATCH_SIZE)\n",
    "data = next(iter(train_data_loader))\n",
    "data.keys()"
   ]
  },
  {
   "cell_type": "code",
   "execution_count": 21,
   "id": "0bd95e6f",
   "metadata": {},
   "outputs": [
    {
     "name": "stdout",
     "output_type": "stream",
     "text": [
      "torch.Size([16, 128])\n",
      "torch.Size([16, 128])\n",
      "torch.Size([16])\n"
     ]
    }
   ],
   "source": [
    "print(data['input_ids'].shape)\n",
    "print(data['attention_mask'].shape)\n",
    "print(data['love'].shape)"
   ]
  },
  {
   "cell_type": "code",
   "execution_count": 22,
   "id": "8d019b42",
   "metadata": {},
   "outputs": [
    {
     "name": "stderr",
     "output_type": "stream",
     "text": [
      "Some weights of the model checkpoint at hfl/chinese-roberta-wwm-ext were not used when initializing BertModel: ['cls.predictions.bias', 'cls.predictions.decoder.weight', 'cls.seq_relationship.weight', 'cls.predictions.transform.LayerNorm.weight', 'cls.predictions.transform.dense.weight', 'cls.seq_relationship.bias', 'cls.predictions.transform.dense.bias', 'cls.predictions.transform.LayerNorm.bias']\n",
      "- This IS expected if you are initializing BertModel from the checkpoint of a model trained on another task or with another architecture (e.g. initializing a BertForSequenceClassification model from a BertForPreTraining model).\n",
      "- This IS NOT expected if you are initializing BertModel from the checkpoint of a model that you expect to be exactly identical (initializing a BertForSequenceClassification model from a BertForSequenceClassification model).\n",
      "Some weights of the model checkpoint at hfl/chinese-roberta-wwm-ext were not used when initializing BertModel: ['cls.predictions.bias', 'cls.predictions.decoder.weight', 'cls.seq_relationship.weight', 'cls.predictions.transform.LayerNorm.weight', 'cls.predictions.transform.dense.weight', 'cls.seq_relationship.bias', 'cls.predictions.transform.dense.bias', 'cls.predictions.transform.LayerNorm.bias']\n",
      "- This IS expected if you are initializing BertModel from the checkpoint of a model trained on another task or with another architecture (e.g. initializing a BertForSequenceClassification model from a BertForPreTraining model).\n",
      "- This IS NOT expected if you are initializing BertModel from the checkpoint of a model that you expect to be exactly identical (initializing a BertForSequenceClassification model from a BertForSequenceClassification model).\n"
     ]
    }
   ],
   "source": [
    "# 加载预训练模型\n",
    "bert_model = BertModel.from_pretrained(PRE_TRAINED_MODEL_NAME)\n",
    "\n",
    "#定义分类模型\n",
    "class EmotionClassifier(nn.Module):\n",
    "    def __init__(self, n_classes):\n",
    "        super(EmotionClassifier, self).__init__()\n",
    "        self.bert = BertModel.from_pretrained(PRE_TRAINED_MODEL_NAME)\n",
    "        self.out_love = nn.Linear(self.bert.config.hidden_size, n_classes)\n",
    "        self.out_joy = nn.Linear(self.bert.config.hidden_size, n_classes)\n",
    "        self.out_fright = nn.Linear(self.bert.config.hidden_size, n_classes)\n",
    "        self.out_anger = nn.Linear(self.bert.config.hidden_size, n_classes)\n",
    "        self.out_fear = nn.Linear(self.bert.config.hidden_size, n_classes)\n",
    "        self.out_sorrow = nn.Linear(self.bert.config.hidden_size, n_classes)\n",
    "    \n",
    "    #修改配置\n",
    "    def forward(self, input_ids, attention_mask):\n",
    "        _, pooled_output = self.bert(\n",
    "            input_ids=input_ids,\n",
    "            attention_mask=attention_mask,\n",
    "            return_dict = False\n",
    "        )\n",
    "        love = self.out_love(pooled_output)\n",
    "        joy = self.out_joy(pooled_output)\n",
    "        fright = self.out_fright(pooled_output)\n",
    "        anger = self.out_anger(pooled_output)\n",
    "        fear = self.out_fear(pooled_output)\n",
    "        sorrow = self.out_sorrow(pooled_output)\n",
    "        return {\n",
    "            'love': love, 'joy': joy, 'fright': fright,\n",
    "            'anger': anger, 'fear': fear, 'sorrow': sorrow,\n",
    "        }\n",
    "# class_names=train.love.unique()\n",
    "class_names=[1]\n",
    "model = EmotionClassifier(len(class_names))\n",
    "model = model.to(device)\n",
    "#将所有最开始读取数据时的tensor变量copy一份到device所指定的cpu上去，之后的运算都在那里上进行。"
   ]
  },
  {
   "cell_type": "code",
   "execution_count": 23,
   "id": "f647abb4",
   "metadata": {},
   "outputs": [
    {
     "name": "stderr",
     "output_type": "stream",
     "text": [
      "C:\\Users\\PCL\\AppData\\Roaming\\Python\\Python39\\site-packages\\transformers\\optimization.py:306: FutureWarning: This implementation of AdamW is deprecated and will be removed in a future version. Use the PyTorch implementation torch.optim.AdamW instead, or set `no_deprecation_warning=True` to disable this warning\n",
      "  warnings.warn(\n"
     ]
    },
    {
     "name": "stdout",
     "output_type": "stream",
     "text": [
      "Epoch 1/1\n",
      "----------\n"
     ]
    },
    {
     "name": "stderr",
     "output_type": "stream",
     "text": [
      "  0%|          | 0/352 [00:00<?, ?it/s]C:\\Users\\PCL\\AppData\\Roaming\\Python\\Python39\\site-packages\\torch\\nn\\modules\\loss.py:530: UserWarning: Using a target size (torch.Size([16])) that is different to the input size (torch.Size([16, 1])). This will likely lead to incorrect results due to broadcasting. Please ensure they have the same size.\n",
      "  return F.mse_loss(input, target, reduction=self.reduction)\n",
      "100%|█████████▉| 351/352 [2:20:38<00:16, 16.21s/it]    C:\\Users\\PCL\\AppData\\Roaming\\Python\\Python39\\site-packages\\torch\\nn\\modules\\loss.py:530: UserWarning: Using a target size (torch.Size([2])) that is different to the input size (torch.Size([2, 1])). This will likely lead to incorrect results due to broadcasting. Please ensure they have the same size.\n",
      "  return F.mse_loss(input, target, reduction=self.reduction)\n",
      "100%|██████████| 352/352 [2:20:41<00:00, 23.98s/it]\n"
     ]
    },
    {
     "name": "stdout",
     "output_type": "stream",
     "text": [
      "Train loss 1.235310478368774\n"
     ]
    },
    {
     "name": "stderr",
     "output_type": "stream",
     "text": [
      " 98%|█████████▊| 39/40 [03:17<00:05,  5.09s/it]C:\\Users\\PCL\\AppData\\Roaming\\Python\\Python39\\site-packages\\torch\\nn\\modules\\loss.py:530: UserWarning: Using a target size (torch.Size([1])) that is different to the input size (torch.Size([1, 1])). This will likely lead to incorrect results due to broadcasting. Please ensure they have the same size.\n",
      "  return F.mse_loss(input, target, reduction=self.reduction)\n",
      "100%|██████████| 40/40 [03:18<00:00,  4.96s/it]\n"
     ]
    },
    {
     "name": "stdout",
     "output_type": "stream",
     "text": [
      "Val   loss 1.2054554039612413 \n",
      "\n"
     ]
    }
   ],
   "source": [
    "EPOCHS = 1 # 训练轮数\n",
    "\n",
    "optimizer = AdamW(model.parameters(), lr=3e-5, correct_bias=False)#定义优化器:反向传播过程中使用\n",
    "total_steps = len(train_data_loader) * EPOCHS\n",
    "\n",
    "# 设计 learning rate scheduler  学习率预热\n",
    "scheduler = get_linear_schedule_with_warmup(\n",
    "  optimizer,\n",
    "  num_warmup_steps=0,#热身阶段的步数\n",
    "  num_training_steps=total_steps\n",
    ")\n",
    "\n",
    "#均方损失函数\n",
    "loss_fn = nn.MSELoss().to(device)\n",
    "\n",
    "#模型训练\n",
    "def train_epoch(\n",
    "  model, \n",
    "  data_loader, \n",
    "  criterion, \n",
    "  optimizer, \n",
    "  device, \n",
    "  scheduler, \n",
    "  n_examples\n",
    "):\n",
    "    model = model.train()\n",
    "    losses = []\n",
    "    correct_predictions = 0\n",
    "    for sample in tqdm(data_loader):\n",
    "        input_ids = sample[\"input_ids\"].to(device)\n",
    "        attention_mask = sample[\"attention_mask\"].to(device)\n",
    "        outputs = model(  #用input_ids,attention_mask计算输出\n",
    "            input_ids=input_ids,\n",
    "            attention_mask=attention_mask\n",
    "        )\n",
    "        loss_love = criterion(outputs['love'], sample['love'].to(device))#计算损失\n",
    "        loss_joy = criterion(outputs['joy'], sample['joy'].to(device))\n",
    "        loss_fright = criterion(outputs['fright'], sample['fright'].to(device))\n",
    "        loss_anger = criterion(outputs['anger'], sample['anger'].to(device))\n",
    "        loss_fear = criterion(outputs['fear'], sample['fear'].to(device))\n",
    "        loss_sorrow = criterion(outputs['sorrow'], sample['sorrow'].to(device))\n",
    "        loss = loss_love + loss_joy + loss_fright + loss_anger + loss_fear + loss_sorrow\n",
    "        \n",
    "        losses.append(loss.item()) # 保存损失值中间状态\n",
    "        loss.backward() # 反向传播损失值,计算损失对于各个参数的梯度\n",
    "        nn.utils.clip_grad_norm_(model.parameters(), max_norm=1.0)\n",
    "        optimizer.step()# 更新参数\n",
    "        scheduler.step()\n",
    "        optimizer.zero_grad()# 清空梯度\n",
    "#     return correct_predictions.double() / (n_examples*6), np.mean(losses)\n",
    "    return np.mean(losses)\n",
    "\n",
    "#验证函数：\n",
    "def eval_model(model, data_loader, criterion, device, n_examples):\n",
    "    model = model.eval() # 验证预测模式\n",
    "\n",
    "    losses = []\n",
    "    correct_predictions = 0\n",
    "\n",
    "    with torch.no_grad():\n",
    "        for sample in tqdm(data_loader):\n",
    "            input_ids = sample[\"input_ids\"].to(device)\n",
    "            attention_mask = sample[\"attention_mask\"].to(device)\n",
    "            outputs = model(\n",
    "                input_ids=input_ids,\n",
    "                attention_mask=attention_mask\n",
    "            )\n",
    "            loss_love = criterion(outputs['love'], sample['love'].to(device))\n",
    "            loss_joy = criterion(outputs['joy'], sample['joy'].to(device))\n",
    "            loss_fright = criterion(outputs['fright'], sample['fright'].to(device))\n",
    "            loss_anger = criterion(outputs['anger'], sample['anger'].to(device))\n",
    "            loss_fear = criterion(outputs['fear'], sample['fear'].to(device))\n",
    "            loss_sorrow = criterion(outputs['sorrow'], sample['sorrow'].to(device))\n",
    "            loss = loss_love + loss_joy + loss_fright + loss_anger + loss_fear + loss_sorrow\n",
    "\n",
    "            losses.append(loss.item())\n",
    "    return  np.mean(losses)\n",
    "\n",
    "#训练\n",
    "history = defaultdict(list) # 记录10轮loss和acc\n",
    "best_loss = float('inf')# 正无穷\n",
    "\n",
    "for epoch in range(EPOCHS):\n",
    "\n",
    "    print(f'Epoch {epoch + 1}/{EPOCHS}')\n",
    "    print('-' * 10)\n",
    "\n",
    "    train_loss = train_epoch(\n",
    "        model,\n",
    "        train_data_loader,\n",
    "        loss_fn,\n",
    "        optimizer,\n",
    "        device,\n",
    "        scheduler,\n",
    "        len(df_train)\n",
    "    )\n",
    "\n",
    "    print(f'Train loss {train_loss}')\n",
    "\n",
    "    val_loss = eval_model(\n",
    "        model,\n",
    "        val_data_loader,\n",
    "        loss_fn,\n",
    "        device,\n",
    "        len(df_val)\n",
    "    )\n",
    "\n",
    "    print(f'Val   loss {val_loss} ')\n",
    "    print()\n",
    "\n",
    "    history['train_loss'].append(train_loss)\n",
    "    history['val_loss'].append(val_loss)\n",
    "\n",
    "    if val_loss < best_loss:\n",
    "        torch.save(model.state_dict(), 'bestmodelstate.bin')"
   ]
  },
  {
   "cell_type": "code",
   "execution_count": 24,
   "id": "2395bab6",
   "metadata": {},
   "outputs": [
    {
     "name": "stderr",
     "output_type": "stream",
     "text": [
      "Some weights of the model checkpoint at hfl/chinese-roberta-wwm-ext were not used when initializing BertModel: ['cls.predictions.bias', 'cls.predictions.decoder.weight', 'cls.seq_relationship.weight', 'cls.predictions.transform.LayerNorm.weight', 'cls.predictions.transform.dense.weight', 'cls.seq_relationship.bias', 'cls.predictions.transform.dense.bias', 'cls.predictions.transform.LayerNorm.bias']\n",
      "- This IS expected if you are initializing BertModel from the checkpoint of a model trained on another task or with another architecture (e.g. initializing a BertForSequenceClassification model from a BertForPreTraining model).\n",
      "- This IS NOT expected if you are initializing BertModel from the checkpoint of a model that you expect to be exactly identical (initializing a BertForSequenceClassification model from a BertForSequenceClassification model).\n",
      "0it [00:00, ?it/s]C:\\Users\\PCL\\AppData\\Roaming\\Python\\Python39\\site-packages\\transformers\\tokenization_utils_base.py:2302: FutureWarning: The `pad_to_max_length` argument is deprecated and will be removed in a future version, use `padding=True` or `padding='longest'` to pad to the longest sequence in the batch, or use `padding='max_length'` to pad to a max length. In this case, you can give a specific length with `max_length` (e.g. `max_length=45`) or leave max_length to None to pad to the maximal input size of the model (e.g. 512 for Bert).\n",
      "  warnings.warn(\n",
      "1336it [1:53:31,  5.10s/it]"
     ]
    },
    {
     "name": "stdout",
     "output_type": "stream",
     "text": [
      "21376\n",
      "21376\n",
      "21376\n",
      "21376\n",
      "21376\n",
      "21376\n"
     ]
    },
    {
     "name": "stderr",
     "output_type": "stream",
     "text": [
      "\n"
     ]
    }
   ],
   "source": [
    "#模型预测\n",
    "test_data_loader = create_data_loader(test, tokenizer, MAX_LEN, BATCH_SIZE)\n",
    "#Train loss=1.4642967580668647\n",
    "#Val loss=1.5290106015036935\n",
    "def predict(model):\n",
    "    val_loss = 0\n",
    "    test_pred = defaultdict(list)\n",
    "    model.eval()\n",
    "    for step, batch in tqdm(enumerate(test_data_loader)):\n",
    "        b_input_ids = batch['input_ids'].to(device)\n",
    "        b_attention_mask = batch['attention_mask'].to(device)\n",
    "\n",
    "        with torch.no_grad():#上下文管理器,这样可以执行计算，但该计算不会在反向传播中被记录。\n",
    "            logits = model(input_ids=b_input_ids, attention_mask=b_attention_mask)\n",
    "            for col in target_cols:\n",
    "                test_pred[col].append(logits[col].to('cpu').numpy())\n",
    "    preds = {}\n",
    "    for col in target_cols:\n",
    "        print(len(np.concatenate(test_pred[col])))\n",
    "        preds[col] = (np.concatenate(test_pred[col]))#np.concatenate(),连接,能够一次完成多个数组的拼接\n",
    "    return preds\n",
    "\n",
    "submit = pd.read_csv('submit_example.tsv', sep='\\t')\n",
    "\n",
    "best_model = EmotionClassifier(len(class_names))\n",
    "path = f'bestmodelstate.bin'\n",
    "best_model.load_state_dict(torch.load(path))\n",
    "best_model.to(device)\n",
    "test_pred = predict(best_model)"
   ]
  },
  {
   "cell_type": "code",
   "execution_count": 37,
   "id": "452364fa",
   "metadata": {},
   "outputs": [
    {
     "data": {
      "text/html": [
       "<div>\n",
       "<style scoped>\n",
       "    .dataframe tbody tr th:only-of-type {\n",
       "        vertical-align: middle;\n",
       "    }\n",
       "\n",
       "    .dataframe tbody tr th {\n",
       "        vertical-align: top;\n",
       "    }\n",
       "\n",
       "    .dataframe thead th {\n",
       "        text-align: right;\n",
       "    }\n",
       "</style>\n",
       "<table border=\"1\" class=\"dataframe\">\n",
       "  <thead>\n",
       "    <tr style=\"text-align: right;\">\n",
       "      <th></th>\n",
       "      <th>id</th>\n",
       "      <th>emotion</th>\n",
       "    </tr>\n",
       "  </thead>\n",
       "  <tbody>\n",
       "    <tr>\n",
       "      <th>0</th>\n",
       "      <td>34170_0002_A_12</td>\n",
       "      <td>0.0689864307641983,0.065360426902771,0.1073034...</td>\n",
       "    </tr>\n",
       "    <tr>\n",
       "      <th>1</th>\n",
       "      <td>34170_0002_A_14</td>\n",
       "      <td>0.06772089004516602,0.0612887479364872,0.10759...</td>\n",
       "    </tr>\n",
       "    <tr>\n",
       "      <th>2</th>\n",
       "      <td>34170_0003_A_16</td>\n",
       "      <td>0.05487876757979393,0.06384250521659851,0.1149...</td>\n",
       "    </tr>\n",
       "    <tr>\n",
       "      <th>3</th>\n",
       "      <td>34170_0003_A_17</td>\n",
       "      <td>0.0734172910451889,0.06610366702079773,0.10575...</td>\n",
       "    </tr>\n",
       "    <tr>\n",
       "      <th>4</th>\n",
       "      <td>34170_0003_A_18</td>\n",
       "      <td>0.06891673803329468,0.07294225692749023,0.1140...</td>\n",
       "    </tr>\n",
       "  </tbody>\n",
       "</table>\n",
       "</div>"
      ],
      "text/plain": [
       "                id                                            emotion\n",
       "0  34170_0002_A_12  0.0689864307641983,0.065360426902771,0.1073034...\n",
       "1  34170_0002_A_14  0.06772089004516602,0.0612887479364872,0.10759...\n",
       "2  34170_0003_A_16  0.05487876757979393,0.06384250521659851,0.1149...\n",
       "3  34170_0003_A_17  0.0734172910451889,0.06610366702079773,0.10575...\n",
       "4  34170_0003_A_18  0.06891673803329468,0.07294225692749023,0.1140..."
      ]
     },
     "execution_count": 37,
     "metadata": {},
     "output_type": "execute_result"
    }
   ],
   "source": [
    "label_preds = []\n",
    "for col in target_cols:\n",
    "    preds = test_pred[col]\n",
    "    label_preds.append(preds.flatten())\n",
    "sub = submit.copy()\n",
    "sub['emotion'] = np.stack(label_preds, axis=1).tolist() #np.stack() 沿着新轴连接数组的序列\n",
    "sub['emotion'] = sub['emotion'].apply(lambda x: ','.join([str(i) for i in x]))\n",
    "sub.head()"
   ]
  },
  {
   "cell_type": "code",
   "execution_count": 40,
   "id": "f8f2692f",
   "metadata": {},
   "outputs": [],
   "source": [
    "sub.to_csv(f'baseline.tsv', sep='\\t', index=False)"
   ]
  },
  {
   "cell_type": "code",
   "execution_count": null,
   "id": "0ab70218",
   "metadata": {},
   "outputs": [],
   "source": []
  }
 ],
 "metadata": {
  "kernelspec": {
   "display_name": "Python 3 (ipykernel)",
   "language": "python",
   "name": "python3"
  },
  "language_info": {
   "codemirror_mode": {
    "name": "ipython",
    "version": 3
   },
   "file_extension": ".py",
   "mimetype": "text/x-python",
   "name": "python",
   "nbconvert_exporter": "python",
   "pygments_lexer": "ipython3",
   "version": "3.9.12"
  }
 },
 "nbformat": 4,
 "nbformat_minor": 5
}
